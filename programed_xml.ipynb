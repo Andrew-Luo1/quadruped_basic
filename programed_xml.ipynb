{
 "cells": [
  {
   "cell_type": "markdown",
   "metadata": {},
   "source": [
    "## NOTE\n",
    "This incomplete notebook contains plans to programatically set the xml.\n",
    "\n",
    "## Plan\n",
    "\n",
    "#### Objective\n",
    "1. Connie can input her design (masses, lengths)\n",
    "2. Ben can make the design walk\n",
    "\n",
    "#### Pieces\n",
    "1. Simplified representation: only the parameters you set; assume symmetry\n",
    "2. Full robot XML; directly modify\n",
    "3. Environment XML\n",
    "\n",
    "Total XML = environment XML + full robot XML\n",
    "\n",
    "#### Simplified Representation Parameters\n",
    "\n",
    "*Overall*\n",
    "| Parameter | Description |\n",
    "| ---------|----------|\n",
    "| env | The environment you're using |\n",
    "| simp_collisions | Simplified collisions on: only collisions of the feet are recognized. |\n",
    "| lock_wheels | The wheels are locked, ex for easier walking mode |\n",
    "| solver_iters | Iterations of the solver. Decrease down to 1 for faster simulation at the cost of simulation stability. |\n",
    "\n",
    "*Legs*\n",
    "| Parameter | Description |\n",
    "| ---------|----------|\n",
    "| l_c | Length of calf (lower leg segment) |\n",
    "| l_t | Lengh of thigh (upper leg segment) |\n",
    "| r | Radius of foot-wheel |\n",
    "| m_c  | mass of calf |\n",
    "| m_t  | mass of thigh |\n",
    "| m_w  | mass of wheel |\n",
    "| m_hj | mass of hip joint |\n",
    "| m_kj | mass of knee joint |\n",
    "| m_wj | mass of wheel joint |\n",
    "| rg_hj | range of hip joint (1) |\n",
    "| rg_kj | range of knee joint |\n",
    "| rg_wj | range of wheel joint|\n",
    "| t_hj | (*) max torque of hip joint (2) |\n",
    "| t_kj | (*) max torque of knee joint |\n",
    "| t_wj | (*) max torque of wheel joint |\n",
    "| mu_w | (*) wheel friction coefficient |\n",
    "\n",
    "(1) range specified as a list [min, max] CCW rotations about the axis of rotation. \n",
    "(2) max torque is specified as newton-meters.\n",
    "(*) will require experimentation to measure. \n",
    "\n",
    "*Body*\n",
    "| Parameter | Description |\n",
    "| ---------|----------|\n",
    "| l | length |\n",
    "| w | width |\n",
    "| d | depth |\n",
    "| m | mass |\n",
    "| a_RF | attachment site (1) of right front leg |\n",
    "| a_LF | attachment site of left  front leg |\n",
    "| a_RH | attachment site of right hind leg |\n",
    "| a_LH | attachment site of left  hind leg |\n",
    "\n",
    "(1) Let the center of the body be (0, 0).\n",
    "\n",
    "#### How to deal with XML's\n",
    "Use xml.etree.ElementTree\n",
    "\n",
    "#### Mujoco Implementation\n",
    "*Motors* \n",
    "- PD for the servos, affine for the brushless.\n",
    "\n",
    "*Collisions*\n",
    "- For all bodies by default.\n",
    "\n",
    "*Inertial*\n",
    "- Not present; auto-calculate inertial properties of non-colliding bodies using a non-colliding geom.\n",
    "\n",
    "*Geoms*\n",
    "- All inertial, collision and appearance information.\n",
    "\n",
    "*Bodies*\n",
    "- All kinematic information. \n",
    "\n",
    "*Angles*\n",
    "- All zero angles defined as legs perfectly straight.\n",
    "\n",
    "*Environment*\n",
    "- Lighting, camera, floor, etc\n",
    "\n",
    "#### Future Tasks\n",
    "- Integrate meshes for better appearance."
   ]
  },
  {
   "cell_type": "markdown",
   "metadata": {},
   "source": [
    "#### Tasks \n",
    "- [ ] Load with actuator (one-liner, under parent)\n",
    "- [ ] "
   ]
  },
  {
   "cell_type": "code",
   "execution_count": 3,
   "metadata": {},
   "outputs": [],
   "source": [
    "import numpy as np\n",
    "import xml.etree.ElementTree as ET\n",
    "import mujoco\n",
    "import os"
   ]
  },
  {
   "cell_type": "code",
   "execution_count": 5,
   "metadata": {},
   "outputs": [],
   "source": [
    "\n",
    "\n",
    "#### SET PARAMETERS\n",
    "\n",
    "# None for not implemented. \n",
    "sim_pars = {\n",
    "    'model_name': 'connieped',\n",
    "    'env': None,\n",
    "    'simp_cols': None,\n",
    "    'lock_wheels': True,\n",
    "    'solver_iters': 1\n",
    "}\n",
    "\n",
    "l_bod = 10\n",
    "w_bod = 6\n",
    "body_pars = {\n",
    "    'l': l_bod,\n",
    "    'w': w_bod,\n",
    "    'd': 2,\n",
    "    'm': 0.1,\n",
    "    'a_RF': [w_bod/2, l_bod/2],\n",
    "    'a_LF': [-w_bod/2, l_bod/2],\n",
    "    'a_RH': [w_bod/2, -l_bod/2],\n",
    "    'a_LH': [-w_bod/2, -l_bod/2]\n",
    "}\n",
    "\n",
    "# UNITS IN METERS, KILOGRAMS\n",
    "leg_pars = {\n",
    "    'l_c': 0.06,\n",
    "    'l_t': 0.06,\n",
    "    'r': 0.012,\n",
    "    'm_c':  0.03,\n",
    "    'm_t':  0.03,\n",
    "    'm_w':  0.03,\n",
    "    'm_hj': 0.05,\n",
    "    'm_kj': 0.05,\n",
    "    'm_wj': 0.05,\n",
    "    'rg_hj': [-np.pi, np.pi],\n",
    "    'rg_kj': [-np.pi, np.pi],\n",
    "    'rg_wj': [-np.pi, np.pi],\n",
    "    't_hj': 1,\n",
    "    't_kj': 1,\n",
    "    't_wj': 1,\n",
    "    'mu_w': 1\n",
    "}"
   ]
  },
  {
   "cell_type": "code",
   "execution_count": 14,
   "metadata": {},
   "outputs": [
    {
     "data": {
      "text/plain": [
       "'<option timestep=\"0.002\" iterations=\"1\" ls_iterations=\"1\" solver=\"Newton\"/>'"
      ]
     },
     "execution_count": 14,
     "metadata": {},
     "output_type": "execute_result"
    }
   ],
   "source": [
    "\"\"\"\n",
    "XML Creation Algorithm:\n",
    "\n",
    "for each element:\n",
    "1. element_str = <... {}....>.format(...)\n",
    "2. convert to element\n",
    "3. append to current parent\n",
    "\"\"\"\n",
    "\n",
    "file_name = os.path.join(os.getcwd(), \"output_xmls\", \"basic_connieped.xml\")\n",
    "\n",
    "# SIM SETTINGS\n",
    "# sim_pars = {\n",
    "#     'model_name': connieped\n",
    "#     'env': None,\n",
    "#     'simp_cols': None,\n",
    "#     'lock_wheels': True,\n",
    "#     'solver_iters': 1\n",
    "# }\n",
    "\n",
    "s_root = \"\"\"<mujoco model=\"{}\"> </mujoco>\"\"\".format(sim_pars['model_name'])\n",
    "root = ET.fromstring(s_root)\n",
    "\n",
    "# string_child\n",
    "s_c = \"\"\"<option timestep=\"0.002\" iterations=\"{}\" ls_iterations=\"{}\" solver=\"Newton\"/>\"\"\".format(sim_pars['solver_iters'], sim_pars['solver_iters'])\n",
    "\n",
    "s_c\n",
    "s_xml = ET.tostring(root)"
   ]
  },
  {
   "cell_type": "code",
   "execution_count": 18,
   "metadata": {},
   "outputs": [
    {
     "data": {
      "text/plain": [
       "0.707107"
      ]
     },
     "execution_count": 18,
     "metadata": {},
     "output_type": "execute_result"
    }
   ],
   "source": [
    "np.round(np.sin(np.pi/4), 6)"
   ]
  }
 ],
 "metadata": {
  "kernelspec": {
   "display_name": "mujoco",
   "language": "python",
   "name": "python3"
  },
  "language_info": {
   "codemirror_mode": {
    "name": "ipython",
    "version": 3
   },
   "file_extension": ".py",
   "mimetype": "text/x-python",
   "name": "python",
   "nbconvert_exporter": "python",
   "pygments_lexer": "ipython3",
   "version": "3.12.0"
  }
 },
 "nbformat": 4,
 "nbformat_minor": 2
}
